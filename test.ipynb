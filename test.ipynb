{
 "cells": [
  {
   "cell_type": "code",
   "execution_count": 4,
   "id": "516a47c9",
   "metadata": {},
   "outputs": [
    {
     "data": {
      "text/plain": [
       "AIMessage(content='The coder toiled, both night and day,\\nWith APIs, a tangled fray.\\nTo weave a web, a chain of thought,\\nA digital creation, dearly bought.\\n\\nHe dreamed of questions, answered true,\\nOf knowledge vast, and ever new.\\nBut scattered data, like the sand,\\nSlipped through his grasp, beyond command.\\n\\nThen whispered winds, a novel name,\\n\"LangChain,\" they breathed, a rising flame.\\nA framework strong, a guiding light,\\nTo link the words, and make them bright.\\n\\nHe crafted chains, with modules bold,\\nLLMs he summoned, stories told.\\nFrom documents deep, to web\\'s wide store,\\nHe drew the wisdom, and so much more.\\n\\nHe built an agent, sharp and keen,\\nTo search and learn, unseen, between\\nThe lines of text, the coded rhyme,\\nA symphony of thought, sublime.\\n\\nThe chains grew long, the tasks complex,\\nHe tamed the chaos, with reflex.\\nFrom chatbots bright, to question\\'s call,\\nLangChain empowered, answered all.\\n\\nBut whispers rose, a warning low,\\n\"With power great, caution must grow.\\nThe chains you forge, with links so tight,\\nCan bind the truth, and dim the light.\"\\n\\nThe coder paused, his hand did stay,\\nHe knew the words, the price to pay.\\nWith thoughtful heart, and purpose clear,\\nHe vowed to wield the chain with fear.\\n\\nSo let this ballad serve to tell,\\nOf LangChain\\'s power, its magic spell.\\nA tool for good, a force for change,\\nBut wield it wisely, lest it estrange. \\nThe truth we seek, the words we find,\\nWith open heart, and open mind.', additional_kwargs={}, response_metadata={'prompt_feedback': {'block_reason': 0, 'safety_ratings': []}, 'finish_reason': 'STOP', 'model_name': 'gemini-1.5-pro-002', 'safety_ratings': []}, id='run-1902623e-e41b-4e0f-b3ed-e34dc9c40970-0', usage_metadata={'input_tokens': 7, 'output_tokens': 377, 'total_tokens': 384, 'input_token_details': {'cache_read': 0}})"
      ]
     },
     "execution_count": 4,
     "metadata": {},
     "output_type": "execute_result"
    }
   ],
   "source": [
    "from langchain_google_genai import ChatGoogleGenerativeAI\n",
    "import os\n",
    "\n",
    "llm = ChatGoogleGenerativeAI(model=\"gemini-1.5-pro\",\n",
    "                             google_api_key=os.getenv(\"GEMINI_API_KEY\"),\n",
    "            temperature=0.7\n",
    "        )\n",
    "llm.invoke(\"Write me a ballad about LangChain\")"
   ]
  }
 ],
 "metadata": {
  "kernelspec": {
   "display_name": "Python 3",
   "language": "python",
   "name": "python3"
  },
  "language_info": {
   "codemirror_mode": {
    "name": "ipython",
    "version": 3
   },
   "file_extension": ".py",
   "mimetype": "text/x-python",
   "name": "python",
   "nbconvert_exporter": "python",
   "pygments_lexer": "ipython3",
   "version": "3.11.5"
  }
 },
 "nbformat": 4,
 "nbformat_minor": 5
}
